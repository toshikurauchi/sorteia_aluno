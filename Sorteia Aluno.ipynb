{
 "cells": [
  {
   "cell_type": "markdown",
   "metadata": {},
   "source": [
    "# SORTEADOR DE ALUNOS"
   ]
  },
  {
   "cell_type": "code",
   "execution_count": 1,
   "metadata": {
    "collapsed": true
   },
   "outputs": [],
   "source": [
    "# Imports\n",
    "import random\n",
    "from ipywidgets import widgets\n",
    "from IPython.display import Javascript"
   ]
  },
  {
   "cell_type": "code",
   "execution_count": 2,
   "metadata": {
    "collapsed": true
   },
   "outputs": [],
   "source": [
    "# Carrega a lista de nomes (trocar pela lista de verdade)\n",
    "alunos = ['Leonardo', 'Donatello', 'Raphael', 'Michelangelo']"
   ]
  },
  {
   "cell_type": "code",
   "execution_count": 3,
   "metadata": {
    "collapsed": true
   },
   "outputs": [],
   "source": [
    "def aluno_sem_repeticao(alunos):\n",
    "    '''\n",
    "    Devolve o próxio aluno da lista embaralhada de alunos (se todos já foram, embaralha novamente)\n",
    "    '''\n",
    "    i = len(alunos)\n",
    "    while True:\n",
    "        if i >= len(alunos):\n",
    "            i = 0\n",
    "            random.shuffle(alunos)\n",
    "        yield alunos[i]\n",
    "        i += 1"
   ]
  },
  {
   "cell_type": "code",
   "execution_count": 4,
   "metadata": {
    "collapsed": true
   },
   "outputs": [],
   "source": [
    "# Definição dos Widgets\n",
    "botao = widgets.Button(description='Sorteia!!')\n",
    "texto = widgets.HTML('''\n",
    "    <audio id=\"tambores\" src=\"191718__adriann__drumroll.wav\"></audio>\n",
    "    <audio id=\"party-horn\" src=\"170583__audiosmedia__party-horn.wav\"></audio>\n",
    "    <h1 id=\"aluno\" style=\"font-size: 90px\">...</h1>''')\n",
    "caixa = widgets.VBox([botao, texto])"
   ]
  },
  {
   "cell_type": "code",
   "execution_count": 5,
   "metadata": {
    "collapsed": true
   },
   "outputs": [],
   "source": [
    "aluno_sorteado = aluno_sem_repeticao(alunos)\n",
    "def botao_clicado(b):\n",
    "    '''\n",
    "    Toca o som dos tambores, depois mostra o aluno sorteado e toca o som final.\n",
    "    Arquivos de áudio disponíveis como Creative Commons:\n",
    "        \"191718__adriann__drumroll.wav\" - https://freesound.org/people/adriann/sounds/191718/\n",
    "        \"170583__audiosmedia__party-horn.wav\" - https://freesound.org/people/audiosmedia/sounds/170583/\n",
    "    '''\n",
    "    display(Javascript('''\n",
    "    var tambores = document.getElementById(\"tambores\");\n",
    "    var partyHorn = document.getElementById(\"party-horn\");\n",
    "    var aluno = document.getElementById(\"aluno\");\n",
    "    aluno.innerHTML = \"Sorteando...\";\n",
    "    tambores.addEventListener('ended', function(){\n",
    "        aluno.innerHTML = \"%s 🎉\";\n",
    "        partyHorn.play();\n",
    "    });\n",
    "    tambores.play();\n",
    "    ''' % next(aluno_sorteado)))\n",
    "\n",
    "botao.on_click(botao_clicado)"
   ]
  },
  {
   "cell_type": "code",
   "execution_count": 6,
   "metadata": {},
   "outputs": [
    {
     "data": {
      "application/vnd.jupyter.widget-view+json": {
       "model_id": "2d2756d57c15420fa2d133de5bd9d61e"
      }
     },
     "metadata": {},
     "output_type": "display_data"
    },
    {
     "data": {
      "application/javascript": [
       "\n",
       "    var tambores = document.getElementById(\"tambores\");\n",
       "    var partyHorn = document.getElementById(\"party-horn\");\n",
       "    var aluno = document.getElementById(\"aluno\");\n",
       "    aluno.innerHTML = \"Sorteando...\";\n",
       "    tambores.addEventListener('ended', function(){\n",
       "        aluno.innerHTML = \"Michelangelo 🎉\";\n",
       "        partyHorn.play();\n",
       "    });\n",
       "    tambores.play();\n",
       "    "
      ],
      "text/plain": [
       "<IPython.core.display.Javascript object>"
      ]
     },
     "metadata": {},
     "output_type": "display_data"
    },
    {
     "data": {
      "application/javascript": [
       "\n",
       "    var tambores = document.getElementById(\"tambores\");\n",
       "    var partyHorn = document.getElementById(\"party-horn\");\n",
       "    var aluno = document.getElementById(\"aluno\");\n",
       "    aluno.innerHTML = \"Sorteando...\";\n",
       "    tambores.addEventListener('ended', function(){\n",
       "        aluno.innerHTML = \"Donatello 🎉\";\n",
       "        partyHorn.play();\n",
       "    });\n",
       "    tambores.play();\n",
       "    "
      ],
      "text/plain": [
       "<IPython.core.display.Javascript object>"
      ]
     },
     "metadata": {},
     "output_type": "display_data"
    },
    {
     "data": {
      "application/javascript": [
       "\n",
       "    var tambores = document.getElementById(\"tambores\");\n",
       "    var partyHorn = document.getElementById(\"party-horn\");\n",
       "    var aluno = document.getElementById(\"aluno\");\n",
       "    aluno.innerHTML = \"Sorteando...\";\n",
       "    tambores.addEventListener('ended', function(){\n",
       "        aluno.innerHTML = \"Leonardo 🎉\";\n",
       "        partyHorn.play();\n",
       "    });\n",
       "    tambores.play();\n",
       "    "
      ],
      "text/plain": [
       "<IPython.core.display.Javascript object>"
      ]
     },
     "metadata": {},
     "output_type": "display_data"
    },
    {
     "data": {
      "application/javascript": [
       "\n",
       "    var tambores = document.getElementById(\"tambores\");\n",
       "    var partyHorn = document.getElementById(\"party-horn\");\n",
       "    var aluno = document.getElementById(\"aluno\");\n",
       "    aluno.innerHTML = \"Sorteando...\";\n",
       "    tambores.addEventListener('ended', function(){\n",
       "        aluno.innerHTML = \"Raphael 🎉\";\n",
       "        partyHorn.play();\n",
       "    });\n",
       "    tambores.play();\n",
       "    "
      ],
      "text/plain": [
       "<IPython.core.display.Javascript object>"
      ]
     },
     "metadata": {},
     "output_type": "display_data"
    },
    {
     "data": {
      "application/javascript": [
       "\n",
       "    var tambores = document.getElementById(\"tambores\");\n",
       "    var partyHorn = document.getElementById(\"party-horn\");\n",
       "    var aluno = document.getElementById(\"aluno\");\n",
       "    aluno.innerHTML = \"Sorteando...\";\n",
       "    tambores.addEventListener('ended', function(){\n",
       "        aluno.innerHTML = \"Michelangelo 🎉\";\n",
       "        partyHorn.play();\n",
       "    });\n",
       "    tambores.play();\n",
       "    "
      ],
      "text/plain": [
       "<IPython.core.display.Javascript object>"
      ]
     },
     "metadata": {},
     "output_type": "display_data"
    },
    {
     "data": {
      "application/javascript": [
       "\n",
       "    var tambores = document.getElementById(\"tambores\");\n",
       "    var partyHorn = document.getElementById(\"party-horn\");\n",
       "    var aluno = document.getElementById(\"aluno\");\n",
       "    aluno.innerHTML = \"Sorteando...\";\n",
       "    tambores.addEventListener('ended', function(){\n",
       "        aluno.innerHTML = \"Raphael 🎉\";\n",
       "        partyHorn.play();\n",
       "    });\n",
       "    tambores.play();\n",
       "    "
      ],
      "text/plain": [
       "<IPython.core.display.Javascript object>"
      ]
     },
     "metadata": {},
     "output_type": "display_data"
    },
    {
     "data": {
      "application/javascript": [
       "\n",
       "    var tambores = document.getElementById(\"tambores\");\n",
       "    var partyHorn = document.getElementById(\"party-horn\");\n",
       "    var aluno = document.getElementById(\"aluno\");\n",
       "    aluno.innerHTML = \"Sorteando...\";\n",
       "    tambores.addEventListener('ended', function(){\n",
       "        aluno.innerHTML = \"Donatello 🎉\";\n",
       "        partyHorn.play();\n",
       "    });\n",
       "    tambores.play();\n",
       "    "
      ],
      "text/plain": [
       "<IPython.core.display.Javascript object>"
      ]
     },
     "metadata": {},
     "output_type": "display_data"
    },
    {
     "data": {
      "application/javascript": [
       "\n",
       "    var tambores = document.getElementById(\"tambores\");\n",
       "    var partyHorn = document.getElementById(\"party-horn\");\n",
       "    var aluno = document.getElementById(\"aluno\");\n",
       "    aluno.innerHTML = \"Sorteando...\";\n",
       "    tambores.addEventListener('ended', function(){\n",
       "        aluno.innerHTML = \"Leonardo 🎉\";\n",
       "        partyHorn.play();\n",
       "    });\n",
       "    tambores.play();\n",
       "    "
      ],
      "text/plain": [
       "<IPython.core.display.Javascript object>"
      ]
     },
     "metadata": {},
     "output_type": "display_data"
    }
   ],
   "source": [
    "# A interação toda acontece aqui...\n",
    "display(caixa)"
   ]
  },
  {
   "cell_type": "code",
   "execution_count": null,
   "metadata": {
    "collapsed": true
   },
   "outputs": [],
   "source": []
  }
 ],
 "metadata": {
  "kernelspec": {
   "display_name": "Python 3",
   "language": "python",
   "name": "python3"
  },
  "language_info": {
   "codemirror_mode": {
    "name": "ipython",
    "version": 3
   },
   "file_extension": ".py",
   "mimetype": "text/x-python",
   "name": "python",
   "nbconvert_exporter": "python",
   "pygments_lexer": "ipython3",
   "version": "3.5.3"
  }
 },
 "nbformat": 4,
 "nbformat_minor": 2
}
